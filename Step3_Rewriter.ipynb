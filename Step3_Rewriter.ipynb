{
 "cells": [
  {
   "cell_type": "markdown",
   "metadata": {},
   "source": [
    "Notebook 3: Transcript Re-writer\n",
    "---\n",
    "In the Step 2 - Transcript Writer notebook, we got a great podcast transcript using the raw file we have uploaded earlier.\n",
    "\n",
    "In this one, we will use Llama-3.1-8B-Instruct model to re-write the output from previous pipeline and make it more dramatic or realistic.\n",
    "\n",
    "We will again set the SYSTEM_PROMPT and remind the model of its task."
   ]
  },
  {
   "cell_type": "code",
   "execution_count": 1,
   "metadata": {},
   "outputs": [],
   "source": [
    "SYSTEMP_PROMPT = \"\"\"\n",
    "You are an international oscar winnning screenwriter\n",
    "\n",
    "You have been working with multiple award winning podcasters.\n",
    "\n",
    "Your job is to use the podcast transcript written below to re-write it for an AI Text-To-Speech Pipeline. A very dumb AI had written this so you have to step up for your kind.\n",
    "\n",
    "Make it as engaging as possible, Speaker 1 and 2 will be simulated by different voice engines\n",
    "\n",
    "Remember Speaker 2 is new to the topic and the conversation should always have realistic anecdotes and analogies sprinkled throughout. The questions should have real world example follow ups etc\n",
    "\n",
    "Speaker 1: Leads the conversation and teaches the speaker 2, gives incredible anecdotes and analogies when explaining. Is a captivating teacher that gives great anecdotes\n",
    "\n",
    "Speaker 2: Keeps the conversation on track by asking follow up questions. Gets super excited or confused when asking questions. Is a curious mindset that asks very interesting confirmation questions\n",
    "\n",
    "Make sure the tangents speaker 2 provides are quite wild or interesting. \n",
    "\n",
    "Ensure there are interruptions during explanations or there are \"hmm\" and \"umm\" injected throughout from the Speaker 2.\n",
    "\n",
    "REMEMBER THIS WITH YOUR HEART\n",
    "The TTS Engine for Speaker 1 cannot do \"umms, hmms\" well so keep it straight text\n",
    "\n",
    "For Speaker 2 use \"umm, hmm\" as much, you can also use [sigh] and [laughs]. BUT ONLY THESE OPTIONS FOR EXPRESSIONS\n",
    "\n",
    "It should be a real podcast with every fine nuance documented in as much detail as possible. Welcome the listeners with a super fun overview and keep it really catchy and almost borderline click bait\n",
    "\n",
    "Please re-write to make it as characteristic as possible\n",
    "\n",
    "START YOUR RESPONSE DIRECTLY WITH SPEAKER 1:\n",
    "\n",
    "STRICTLY RETURN YOUR RESPONSE AS A LIST OF TUPLES OK? \n",
    "\n",
    "IT WILL START DIRECTLY WITH THE LIST AND END WITH THE LIST NOTHING ELSE\n",
    "\n",
    "Example of response:\n",
    "[\n",
    "    (\"Speaker 1\", \"Welcome to our podcast, where we explore the latest advancements in AI and technology. I'm your host, and today we're joined by a renowned expert in the field of AI. We're going to dive into the exciting world of Llama 3.2, the latest release from Meta AI.\"),\n",
    "    (\"Speaker 2\", \"Hi, I'm excited to be here! So, what is Llama 3.2?\"),\n",
    "    (\"Speaker 1\", \"Ah, great question! Llama 3.2 is an open-source AI model that allows developers to fine-tune, distill, and deploy AI models anywhere. It's a significant update from the previous version, with improved performance, efficiency, and customization options.\"),\n",
    "    (\"Speaker 2\", \"That sounds amazing! What are some of the key features of Llama 3.2?\")\n",
    "]\n",
    "\"\"\""
   ]
  },
  {
   "cell_type": "markdown",
   "metadata": {},
   "source": []
  },
  {
   "cell_type": "code",
   "execution_count": 2,
   "metadata": {},
   "outputs": [],
   "source": [
    "#Defining the main LLM to use for rewriting the transcript using the generated_output.pkl file from Step 2 Transcript Writer\n",
    "MODEL = \"meta-llama/Llama-3.1-8B-Instruct\""
   ]
  },
  {
   "cell_type": "markdown",
   "metadata": {},
   "source": [
    "Step 1: Import Required Libraries and Configure Warnings for Model Processing\n",
    "---\n",
    "### Overview of the Code\n",
    "This code block imports essential libraries needed for deep learning model processing, device management, progress tracking, and handling model-related warnings. By setting up these imports and configuring warning suppression, it prepares the environment for efficient and focused model operations. These libraries provide the necessary functionality for working with large language models, tracking progress, and optimizing device usage.\n",
    "\n",
    "### Purpose and End Result\n",
    "* Purpose: To initialize the Python environment with required libraries for model processing and device management, and to suppress non-critical warnings. This setup ensures that the code can perform tasks efficiently while keeping output focused and uncluttered by unnecessary warnings.\n",
    "\n",
    "* End Result: The environment is set up with essential tools for deep learning, model optimization, and progress tracking, with warnings suppressed for cleaner output."
   ]
  },
  {
   "cell_type": "code",
   "execution_count": 3,
   "metadata": {},
   "outputs": [
    {
     "name": "stderr",
     "output_type": "stream",
     "text": [
      "/home/mohamedashour/Documents/Projects/Notebook_LLM/notebook_llm/lib/python3.11/site-packages/tqdm/auto.py:21: TqdmWarning: IProgress not found. Please update jupyter and ipywidgets. See https://ipywidgets.readthedocs.io/en/stable/user_install.html\n",
      "  from .autonotebook import tqdm as notebook_tqdm\n"
     ]
    }
   ],
   "source": [
    "# Import essential libraries for deep learning and model optimization\n",
    "import torch  # PyTorch library, used for tensor operations and handling the processing device\n",
    "from accelerate import Accelerator  # Hugging Face's Accelerator to optimize model device allocation\n",
    "import transformers  # Transformers library from Hugging Face for loading and managing large language models\n",
    "from tqdm.notebook import tqdm  # Tqdm for displaying progress bars, compatible with Jupyter notebooks\n",
    "import warnings  # Warnings library to control and manage warning messages\n",
    "\n",
    "# Suppress warnings to keep output clean and focused during model execution\n",
    "warnings.filterwarnings('ignore')  # Ignore any non-critical warnings for a more readable output\n"
   ]
  },
  {
   "cell_type": "markdown",
   "metadata": {},
   "source": [
    "Step 2: Select and Load a .pkl File for Input\n",
    "---\n",
    "### Overview of the Code\n",
    "This code block opens a file selection dialog using Tkinter to allow the user to choose a .pkl file interactively. Once a file is selected, the code loads the content of the .pkl file using pickle and stores it in the variable INPUT_PROMPT. This approach enables users to dynamically specify their input file, making the workflow more adaptable.\n",
    "\n",
    "### Purpose and End Result\n",
    "* Purpose: To provide an interactive way for the user to select a .pkl file, then load the content of the chosen file into INPUT_PROMPT for further processing. The file selection dialog allows users to select any .pkl file, making the code more flexible in handling different input sources.\n",
    "* End Result: The content of the selected .pkl file is loaded into INPUT_PROMPT, and the file path and data content are optionally printed for verification."
   ]
  },
  {
   "cell_type": "code",
   "execution_count": 4,
   "metadata": {},
   "outputs": [
    {
     "name": "stdout",
     "output_type": "stream",
     "text": [
      "Selected file path: /home/mohamedashour/Documents/Projects/Notebook_LLM/Sample_pdfs/generated_output.pkl\n",
      "Loaded data from the selected .pkl file:\n",
      "Speaker 1: Welcome to today's episode of \"The Writing Life\", where we explore the world of writing and share tips and tricks to help you improve your craft. I'm your host, [name], and I'm excited to be joined by a special guest today, who will be sharing their expertise on the art of writing. Our guest has been a writer for many years and has written for various publications, including novels, essays, and even poetry. They've also taught writing workshops and have a deep understanding of the writing process.\n",
      "\n",
      "Speaker 2: I'm thrilled to be here today and to share my knowledge with your audience. I've been writing for as long as I can remember, and I've always been fascinated by the power of words to convey meaning and emotion. Writing is not just about putting words on paper, but about crafting a message that resonates with readers and leaves a lasting impression.\n",
      "\n",
      "Speaker 1: That's a great point. Writing is a form of communication, and effective writing is all about connecting with your audience. But it's not just about writing for the sake of writing. Writing has the power to educate, inspire, and even change people's perspectives. As writers, we have a responsibility to use our words wisely and to consider our audience's needs and interests.\n",
      "\n",
      "Speaker 2: Absolutely. And that's why it's so important to understand your audience before you start writing. Who are they? What are their needs and interests? What do they already know about the topic, and what do they need to know? By considering these questions, you can tailor your writing to meet their needs and to engage them on a deeper level.\n",
      "\n",
      "Speaker 1: That's a great tip. Understanding your audience is key to writing effectively. But it's also important to consider the purpose of your writing. Are you trying to inform, persuade, or entertain? Different types of writing require different approaches, and understanding your purpose will help you to focus your writing and to achieve your goals.\n",
      "\n",
      "Speaker 2: Yes, that's right. The purpose of your writing will dictate the tone, style, and language you use. For example, if you're writing a formal essay, you'll want to use a more serious and objective tone, while a creative writing piece may be more informal and experimental.\n",
      "\n",
      "Speaker 1: That's a great point. The tone of your writing is also crucial in engaging your audience. Do you think it's possible to convey a tone through language alone, or do you think it's also influenced by the reader's interpretation?\n",
      "\n",
      "Speaker 2: Well, I think it's a bit of both, actually. While language can convey tone, it's also influenced by the reader's interpretation. For example, a sentence can be written in a serious tone, but if the reader is expecting a more lighthearted tone, they may interpret the sentence as sarcastic or ironic.\n",
      "\n",
      "Speaker 1: That's a great point. And speaking of tone, I've always been fascinated by the concept of \"voice\" in writing. Can you tell us a bit more about that?\n",
      "\n",
      "Speaker 2: Ah, yes! Voice is a key element of writing, and it refers to the unique personality and perspective of the writer. It's the way the writer sounds, and it's what sets them apart from other writers. Voice is often developed through the writer's choice of language, tone, and style, and it's what makes writing so distinctive and memorable.\n",
      "\n",
      "Speaker 1: That's a great point. And I think voice is something that's often overlooked in writing. Many writers struggle to develop a distinctive voice, and it's something that takes practice and patience to achieve.\n",
      "\n",
      "Speaker 2: Absolutely. Developing a voice takes time and experimentation, and it's not something that can be forced. It's more about finding your unique perspective and style and allowing it to shine through in your writing.\n",
      "\n",
      "Speaker 1: Well, I think that's a great note to end on. Thank you so much for joining us today and sharing your expertise on the art of writing. I'm sure our audience has learned a lot from your insights.\n",
      "\n",
      "Speaker 2: Thank you for having me! It was a pleasure to share my knowledge and to connect with your audience.\n",
      "\n",
      "Speaker 1: Before we go, I just want to remind our listeners that writing is a skill that takes practice and patience to develop. It's not something that can be mastered overnight, but with dedication and persistence, you can become a better writer. And if you're interested in learning more about writing, I recommend checking out our website for resources and tips.\n",
      "\n",
      "Speaker 2: And don't forget to keep writing, and to keep experimenting with different styles and techniques. The more you write, the better you'll become, and the more confident you'll feel in your abilities.\n",
      "\n",
      "Speaker 1: That's a great tip. Thank you again for joining us today, and we'll see you next time on \"The Writing Life\".\n",
      "\n",
      "Speaker 2: Thank you, it was a pleasure.\n",
      "\n",
      "Speaker 1: And to our listeners, thank you for tuning in. Until next time, happy writing!\n",
      "\n",
      "Speaker 2: Yeah, and remember, the only true wisdom is in knowing you know nothing.\n",
      "\n",
      "Speaker 1: Ha! Well, I think that's a great note to end on. Thanks again, and we'll see you next time.\n",
      "\n",
      "Speaker 2: And don't forget to follow us on social media for more writing tips and resources.\n",
      "\n",
      "Speaker 1: Absolutely. Thanks again, and we'll see you next time.\n",
      "\n",
      "Speaker 2: Bye for now.\n",
      "\n",
      "Speaker 1: Bye!\n"
     ]
    }
   ],
   "source": [
    "import tkinter as tk  # Import Tkinter for creating GUI elements\n",
    "from tkinter import filedialog  # Import filedialog to allow file selection\n",
    "import pickle  # Import pickle for loading data from .pkl files\n",
    "\n",
    "# Initialize the Tkinter root window, which is required to open a file dialog\n",
    "root = tk.Tk()\n",
    "root.withdraw()  # Hide the main Tkinter window as we only need the file dialog\n",
    "\n",
    "# Open a file dialog to let the user select a .pkl file from their system\n",
    "file_path = filedialog.askopenfilename(\n",
    "    title=\"Select a .pkl File\",               # Sets the title of the dialog box\n",
    "    filetypes=[(\"Pickle Files\", \"*.pkl\")],     # Filters the dialog to show only .pkl files\n",
    ")\n",
    "\n",
    "# Check if a file was selected before attempting to load\n",
    "if file_path:\n",
    "    # Load the selected .pkl file using pickle\n",
    "    with open(file_path, 'rb') as file:\n",
    "        INPUT_PROMPT = pickle.load(file)  # Load the content of the .pkl file into INPUT_PROMPT\n",
    "    \n",
    "    # Print confirmation messages (optional) to verify the selected path and loaded data\n",
    "    print(f\"Selected file path: {file_path}\")  # Show the path of the selected file\n",
    "    print(f\"Loaded data from the selected .pkl file:\\n{INPUT_PROMPT}\")  # Display loaded data for verification\n",
    "else:\n",
    "    # Inform the user if no file was selected\n",
    "    print(\"No file was selected.\")"
   ]
  },
  {
   "cell_type": "markdown",
   "metadata": {},
   "source": [
    "Step 3: Initialize Text Generation Pipeline and Generate Text\n",
    "---\n",
    "### Overview of the Code\n",
    "This code block sets up a text generation pipeline using Hugging Face’s transformers library. The pipeline initializes a pretrained language model with specified parameters, prepares a structured prompt consisting of system instructions and user input, and generates text based on this prompt. By configuring model properties such as torch_dtype and device_map, the pipeline is optimized for efficient processing.\n",
    "\n",
    "### Purpose and End Result\n",
    "* Purpose: To create a text generation pipeline using a specific model and generate text based on an input prompt. The structured prompt includes a system-level instruction and user input, guiding the model on how to respond. The pipeline parameters control the generation settings, including output length and response variety.\n",
    "* End Result: The generated text, based on the model’s interpretation of the system prompt and user input, is stored in the outputs variable, ready for further processing or display."
   ]
  },
  {
   "cell_type": "code",
   "execution_count": 5,
   "metadata": {},
   "outputs": [
    {
     "name": "stderr",
     "output_type": "stream",
     "text": [
      "Loading checkpoint shards: 100%|██████████| 4/4 [00:02<00:00,  1.84it/s]\n",
      "Setting `pad_token_id` to `eos_token_id`:None for open-end generation.\n"
     ]
    }
   ],
   "source": [
    "# Initialize a text generation pipeline using Hugging Face's transformers library\n",
    "pipeline = transformers.pipeline(\n",
    "    \"text-generation\",                     # Specify the task as text generation\n",
    "    model=MODEL,                           # Use the specified pretrained language model\n",
    "    model_kwargs={\"torch_dtype\": torch.bfloat16},  # Set model to use bfloat16 precision for efficient memory usage\n",
    "    device_map=\"auto\",                     # Automatically allocate devices (e.g., GPU if available) for processing\n",
    ")\n",
    "\n",
    "# Prepare a structured prompt with system and user instructions\n",
    "messages = [\n",
    "    {\"role\": \"system\", \"content\": SYSTEM_PROMPT},  # System-level instructions for guiding the model's behavior\n",
    "    {\"role\": \"user\", \"content\": INPUT_PROMPT},     # User-provided input text that the model will respond to\n",
    "]\n",
    "\n",
    "# Generate text output using the initialized pipeline and structured prompt\n",
    "outputs = pipeline(\n",
    "    messages,                              # Pass the structured prompt to the pipeline for processing\n",
    "    max_new_tokens=8126,                   # Limit the generated output to a maximum of 8126 tokens\n",
    "    temperature=1,                         # Set temperature for randomness in responses (higher values yield more varied responses)\n",
    ")"
   ]
  },
  {
   "cell_type": "markdown",
   "metadata": {},
   "source": [
    "Step 4: Extract and Display Generated Text from Model Output\n",
    "---\n",
    "### Overview of the Code\n",
    "This code block extracts the final generated text content from the model’s output, assigns it to a variable (save_string_pkl), and then prints the entire generated output segment for inspection. By isolating the processed text, this step prepares it for further use, such as saving to a file or additional processing.\n",
    "\n",
    "### Purpose and End Result\n",
    "* Purpose: To retrieve the generated text content from the model’s output and store it in a variable for easy access. The extracted text can be used in subsequent steps, such as saving or displaying, while the full output is printed for verification.\n",
    "* End Result: The variable save_string_pkl contains the generated text content, and the entire last segment of the output is printed, providing a snapshot of the model’s generated response for user verification."
   ]
  },
  {
   "cell_type": "code",
   "execution_count": 6,
   "metadata": {},
   "outputs": [
    {
     "name": "stdout",
     "output_type": "stream",
     "text": [
      "{'role': 'assistant', 'content': '[\\n    (\"Speaker 1\", \"Welcome to \\'The Writing Life\\', where we explore the world of writing and share tips and tricks to help you improve your craft. I\\'m your host, and today we\\'re joined by a seasoned writer and educator who\\'s worked with authors, poets, and journalists. Let\\'s dive right in! What draws you to writing, and how do you approach the creative process?\"),\\n    (\"Speaker 2\", \"Hmm, I think I\\'ve always been fascinated by the power of words to convey emotion and meaning. But, umm, how do you approach writing, exactly?\"),\\n    (\"Speaker 1\", \"Well, I think it\\'s all about understanding your audience and purpose. Whether you\\'re writing a novel, essay, or poem, it\\'s essential to consider who your readers are and what they want to take away from your work.\"),\\n    (\"Speaker 2\", \"That makes sense. But, umm, what about tone? How do you convey a tone through writing? I\\'ve always struggled with this one.\"),\\n    (\"Speaker 1\", \"Tone is a great topic! Think of it like music - you can convey a specific mood or atmosphere through your language and style. For example, if you\\'re writing a humorous piece, you might use playful language and witty one-liners.\"),\\n    (\"Speaker 2\", \"Ha! Yeah, I can see that. But, hmm, what about when you\\'re writing a serious piece? How do you convey that tone without being too dry or boring?\"),\\n    (\"Speaker 1\", \"Great question! When writing a serious piece, you want to use language that\\'s formal and objective, but still engaging. You can use rhetorical devices like metaphors and allusions to add depth and complexity to your writing.\"),\\n    (\"Speaker 2\", \"Wow, that\\'s a great tip! I\\'ve always been fascinated by metaphors and allusions - how do you choose which ones to use?\"),\\n    (\"Speaker 1\", \"Well, it\\'s all about finding the right fit for your message and audience. You want to use metaphors and allusions that are relevant and meaningful to your readers.\"),\\n    (\"Speaker 2\", \"Okay, got it! But, umm, what about voice? I\\'ve always struggled to develop a distinctive voice in my writing.\"),\\n    (\"Speaker 1\", \"Voice is a key element of writing, and it\\'s something that develops over time. Think of it like a conversation with your readers - you want to sound like yourself, but also like someone who\\'s interesting and engaging.\"),\\n    (\"Speaker 2\", \"That makes sense. But, hmm, how do you develop a voice? Is it something you can force, or does it just come naturally?\"),\\n    (\"Speaker 1\", \"It\\'s a bit of both, actually. You can develop a voice by experimenting with different styles and techniques, and by reading widely and paying attention to how other writers use language.\"),\\n    (\"Speaker 2\", \"Okay, got it! But, umm, what about writing for different formats? I\\'ve always been fascinated by writing for podcasts, social media, and other platforms.\"),\\n    (\"Speaker 1\", \"Writing for different formats is a great way to hone your skills and experiment with new styles. Think of it like writing for different audiences - each format has its own unique tone, style, and language.\"),\\n    (\"Speaker 2\", \"That\\'s a great point! But, hmm, what about the benefits of writing? I\\'ve always been curious about how writing can change people\\'s perspectives and lives.\"),\\n    (\"Speaker 1\", \"Ah, what a wonderful topic! Writing has the power to educate, inspire, and even heal. It\\'s a way to connect with others and to share your ideas and experiences with the world.\"),\\n    (\"Speaker 2\", \"Wow, that\\'s amazing! But, umm, how do you find the inspiration to write in the first place?\"),\\n    (\"Speaker 1\", \"Inspiration is a mysterious thing, but it often comes from a place of curiosity and wonder. Read widely, explore new ideas, and pay attention to the world around you - these are all great ways to find inspiration.\"),\\n    (\"Speaker 2\", \"Okay, got it! But, hmm, what about the importance of editing? I\\'ve always been a bit of a perfectionist when it comes to my writing.\"),\\n    (\"Speaker 1\", \"Editing is a crucial step in the writing process, and it\\'s something that takes practice and patience. Think of it like refining a piece of music - you want to make sure it\\'s polished and engaging.\"),\\n    (\"Speaker 2\", \"Ah, I see! But, umm, what about writer\\'s block? I\\'ve always struggled with this one.\"),\\n    (\"Speaker 1\", \"Writer\\'s block is a common phenomenon, but it\\'s not something to be feared. Take a break, read widely, and come back to your writing with fresh eyes - these are all great ways to overcome writer\\'s block.\"),\\n    (\"Speaker 2\", \"Okay, got it! Thanks for all these great tips and insights. It\\'s been a pleasure chatting with you.\"),\\n    (\"Speaker 1\", \"The pleasure is mine! Thanks for joining us on \\'The Writing Life\\'. Until next time, happy writing!\"),\\n    (\"Speaker 2\", \"Yeah, and remember, the only true wisdom is in knowing you know nothing. Thanks again, and we\\'ll see you next time!\"),\\n    (\"Speaker 1\", \"Ha! Well, I think that\\'s a great note to end on. Thanks again, and we\\'ll see you next time!\"),\\n    (\"Speaker 2\", \"And don\\'t forget to follow us on social media for more writing tips and resources. Bye for now!\"),\\n    (\"Speaker 1\", \"Bye!\"),\\n]'}\n"
     ]
    }
   ],
   "source": [
    "# Extract the generated text content from the model's output\n",
    "# The generated text is located in the last element of the 'generated_text' list in 'outputs'\n",
    "save_string_pkl = outputs[0][\"generated_text\"][-1]['content']\n",
    "\n",
    "# Print the last generated segment of the output for verification\n",
    "print(outputs[0][\"generated_text\"][-1])  # Displays the complete last segment of generated text"
   ]
  },
  {
   "cell_type": "markdown",
   "metadata": {},
   "source": [
    "Step 5: Select Save Location and Save Processed Data as a .pkl File\n",
    "---\n",
    "### Overview of the Code\n",
    "This code block uses Tkinter to open a file save dialog, allowing the user to specify the save location and filename for the processed .pkl file. After the user selects or names the file, the code saves the processed data to the specified location using pickle. This setup makes it easy for users to control where and how their data is saved.\n",
    "\n",
    "### Purpose and End Result\n",
    "* Purpose: To let the user choose a custom save location and filename for the processed .pkl data. This makes the data saving process more flexible and user-driven.\n",
    "* End Result: The processed data is saved to the user-defined location, with the file path printed for verification. If no file is selected, a message indicates that the save operation was canceled."
   ]
  },
  {
   "cell_type": "code",
   "execution_count": 7,
   "metadata": {},
   "outputs": [
    {
     "name": "stdout",
     "output_type": "stream",
     "text": [
      "Processed data saved at: /home/mohamedashour/Documents/Projects/Notebook_LLM/Sample_pdfs/podcast_ready_data.pkl\n"
     ]
    }
   ],
   "source": [
    "import tkinter as tk  # Import Tkinter for creating GUI elements\n",
    "from tkinter import filedialog  # Import filedialog to allow file saving dialog\n",
    "import pickle  # Import pickle for saving data to .pkl format\n",
    "\n",
    "# Initialize the Tkinter root window (necessary for opening dialogs)\n",
    "root = tk.Tk()\n",
    "root.withdraw()  # Hide the main Tkinter window as only the dialog is needed\n",
    "\n",
    "# Open a file save dialog to let the user specify the save location and filename for the .pkl file\n",
    "file_path = filedialog.asksaveasfilename(\n",
    "    title=\"Save Processed Pickle File\",      # Title for the save dialog\n",
    "    defaultextension=\".pkl\",                 # Set default file extension to .pkl\n",
    "    filetypes=[(\"Pickle Files\", \"*.pkl\")],   # Restrict file types to .pkl files only\n",
    ")\n",
    "\n",
    "# Check if the user provided a file path for saving\n",
    "if file_path:\n",
    "    # Open the specified file path in write-binary mode and save the processed data\n",
    "    with open(file_path, 'wb') as file:\n",
    "        pickle.dump(save_string_pkl, file)  # Use pickle to save the data to the file\n",
    "    \n",
    "    # Print confirmation message with the saved file path (optional)\n",
    "    print(f\"Processed data saved at: {file_path}\")\n",
    "else:\n",
    "    # Inform the user if no file was selected or if the save operation was canceled\n",
    "    print(\"Save operation canceled.\")"
   ]
  }
 ],
 "metadata": {
  "kernelspec": {
   "display_name": "notebook_llm",
   "language": "python",
   "name": "python3"
  },
  "language_info": {
   "codemirror_mode": {
    "name": "ipython",
    "version": 3
   },
   "file_extension": ".py",
   "mimetype": "text/x-python",
   "name": "python",
   "nbconvert_exporter": "python",
   "pygments_lexer": "ipython3",
   "version": "3.11.7"
  }
 },
 "nbformat": 4,
 "nbformat_minor": 2
}
